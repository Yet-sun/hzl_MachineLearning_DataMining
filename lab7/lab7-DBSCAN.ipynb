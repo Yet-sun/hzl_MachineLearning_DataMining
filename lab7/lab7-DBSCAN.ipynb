{
 "cells": [
  {
   "cell_type": "code",
   "execution_count": 1,
   "metadata": {
    "id": "zKADg-HrOodU",
    "colab_type": "code",
    "outputId": "c8c68b43-c390-4553-d67e-d0bae6239459",
    "executionInfo": {
     "status": "ok",
     "timestamp": 1.559026800539E12,
     "user_tz": -480.0,
     "elapsed": 35951.0,
     "user": {
      "displayName": "孙越",
      "photoUrl": "",
      "userId": "16330562981862613375"
     }
    },
    "colab": {
     "base_uri": "https://localhost:8080/",
     "height": 124.0
    }
   },
   "outputs": [
    {
     "name": "stdout",
     "output_type": "stream",
     "text": [
      "Go to this URL in a browser: https://accounts.google.com/o/oauth2/auth?client_id=947318989803-6bn6qk8qdgf4n4g3pfee6491hc0brc4i.apps.googleusercontent.com&redirect_uri=urn%3Aietf%3Awg%3Aoauth%3A2.0%3Aoob&scope=email%20https%3A%2F%2Fwww.googleapis.com%2Fauth%2Fdocs.test%20https%3A%2F%2Fwww.googleapis.com%2Fauth%2Fdrive%20https%3A%2F%2Fwww.googleapis.com%2Fauth%2Fdrive.photos.readonly%20https%3A%2F%2Fwww.googleapis.com%2Fauth%2Fpeopleapi.readonly&response_type=code\n",
      "\n",
      "Enter your authorization code:\n",
      "··········\n",
      "Mounted at /content/drive/\n"
     ]
    }
   ],
   "source": [
    "from google.colab import drive\n",
    "drive.mount('/content/drive/')"
   ]
  },
  {
   "cell_type": "code",
   "execution_count": 0,
   "metadata": {
    "id": "wW-RHj_nPBKY",
    "colab_type": "code",
    "colab": {}
   },
   "outputs": [],
   "source": [
    "import numpy as np\n",
    "import pandas as pd\n",
    "import matplotlib.pyplot as plt\n",
    "import matplotlib.colors\n",
    "from sklearn.cluster import DBSCAN\n",
    "from sklearn.preprocessing import StandardScaler\n",
    "from sklearn.metrics import silhouette_score # 轮廓系数\n",
    "from sklearn.metrics import calinski_harabaz_score\n",
    "from time import time\n",
    "import warnings\n",
    "\n",
    "warnings.filterwarnings(module='sklearn*', action='ignore', category=DeprecationWarning)\n",
    "\n",
    "matplotlib.rcParams['font.sans-serif'] = ['SimHei']\n",
    "matplotlib.rcParams['axes.unicode_minus'] = False"
   ]
  },
  {
   "cell_type": "code",
   "execution_count": 3,
   "metadata": {
    "id": "gLJzpU5jPLKe",
    "colab_type": "code",
    "outputId": "4f74af07-1446-4a8a-dbb1-ad983494b672",
    "executionInfo": {
     "status": "ok",
     "timestamp": 1.559026802186E12,
     "user_tz": -480.0,
     "elapsed": 37582.0,
     "user": {
      "displayName": "孙越",
      "photoUrl": "",
      "userId": "16330562981862613375"
     }
    },
    "colab": {
     "base_uri": "https://localhost:8080/",
     "height": 363.0
    }
   },
   "outputs": [
    {
     "name": "stdout",
     "output_type": "stream",
     "text": [
      "   Channel  Region  Fresh  Milk  Grocery  Frozen  Detergents_Paper  Delicassen\n",
      "0        2       3  12669  9656     7561     214              2674        1338\n",
      "1        2       3   7057  9810     9568    1762              3293        1776\n",
      "2        2       3   6353  8808     7684    2405              3516        7844\n",
      "3        1       3  13265  1196     4221    6404               507        1788\n",
      "4        2       3  22615  5410     7198    3915              1777        5185\n",
      "(440, 8)\n",
      "[[ 1.44865163  0.59066829  0.05293319 ... -0.58936716 -0.04356873\n",
      "  -0.06633906]\n",
      " [ 1.44865163  0.59066829 -0.39130197 ... -0.27013618  0.08640684\n",
      "   0.08915105]\n",
      " [ 1.44865163  0.59066829 -0.44702926 ... -0.13753572  0.13323164\n",
      "   2.24329255]\n",
      " ...\n",
      " [ 1.44865163  0.59066829  0.20032554 ... -0.54337975  2.51121768\n",
      "   0.12145607]\n",
      " [-0.69029709  0.59066829 -0.13538389 ... -0.41944059 -0.56977032\n",
      "   0.21304614]\n",
      " [-0.69029709  0.59066829 -0.72930698 ... -0.62009417 -0.50488752\n",
      "  -0.52286938]]\n"
     ]
    }
   ],
   "source": [
    "path='drive/My Drive/Colab Notebooks/cluster/lab7/data/Wholesale customers data.csv'\n",
    "\n",
    "data = pd.read_csv(path)\n",
    "print(data.head())\n",
    "print(data.shape)\n",
    "data = StandardScaler().fit_transform(data)\n",
    "print(data[:])\n",
    "data = np.array(data)"
   ]
  },
  {
   "cell_type": "code",
   "execution_count": 34,
   "metadata": {
    "id": "SfOIKQoCQCTu",
    "colab_type": "code",
    "outputId": "1efd2a83-2914-499e-bff1-8304461f2439",
    "executionInfo": {
     "status": "ok",
     "timestamp": 1.559029360309E12,
     "user_tz": -480.0,
     "elapsed": 863.0,
     "user": {
      "displayName": "孙越",
      "photoUrl": "",
      "userId": "16330562981862613375"
     }
    },
    "colab": {
     "base_uri": "https://localhost:8080/",
     "height": 86.0
    }
   },
   "outputs": [
    {
     "name": "stdout",
     "output_type": "stream",
     "text": [
      "[DBSCAN] 0分钟0.007秒\n",
      "聚类簇的个数为： 8\n",
      "轮廓系数： -0.1310428843570635\n",
      "calinski_harabaz_score： 12.405932655137727\n"
     ]
    }
   ],
   "source": [
    "# 使用默认参数，训练一次\n",
    "t_start = time()\n",
    "model = DBSCAN()\n",
    "pred = model.fit_predict(data)\n",
    "# print(pred)\n",
    "t_end = time()\n",
    "t = t_end - t_start\n",
    "print('[DBSCAN] %d分钟%.3f秒' % (int(t / 60), t - 60 * int(t / 60)))\n",
    "y_hat = model.labels_\n",
    "\n",
    "# 获取聚类个数。（聚类结果中-1表示没有聚类为离散点）\n",
    "n_clusters_ = len(set(y_hat)) - (1 if -1 in y_hat else 0)\n",
    "\n",
    "print('聚类簇的个数为：', n_clusters)\n",
    "silhouette_s = silhouette_score(data, model.labels_, metric='euclidean')\n",
    "calinski_harabaz_s = calinski_harabaz_score(data, model.labels_)\n",
    "\n",
    "print('轮廓系数：', silhouette_s)\n",
    "print('calinski_harabaz_score：', calinski_harabaz_s)"
   ]
  },
  {
   "cell_type": "code",
   "execution_count": 32,
   "metadata": {
    "id": "aKjOvqYr46mN",
    "colab_type": "code",
    "outputId": "edb18b02-8fc1-4398-9657-5249fe355069",
    "executionInfo": {
     "status": "ok",
     "timestamp": 1.559028528193E12,
     "user_tz": -480.0,
     "elapsed": 1105.0,
     "user": {
      "displayName": "孙越",
      "photoUrl": "",
      "userId": "16330562981862613375"
     }
    },
    "colab": {
     "base_uri": "https://localhost:8080/",
     "height": 812.0
    }
   },
   "outputs": [
    {
     "name": "stdout",
     "output_type": "stream",
     "text": [
      "[eps: 0.2 min_samples: 5 ]聚类簇的个数为： 3\n",
      "轮廓系数： -0.2838188264010719\n",
      "calinski_harabaz_score： 1.8768015502112705\n",
      "[eps: 0.2 min_samples: 10 ]聚类簇的个数为： 0\n",
      "轮廓系数： None\n",
      "calinski_harabaz_score： None\n",
      "[eps: 0.2 min_samples: 15 ]聚类簇的个数为： 0\n",
      "轮廓系数： None\n",
      "calinski_harabaz_score： None\n",
      "[eps: 0.3 min_samples: 5 ]聚类簇的个数为： 1\n",
      "轮廓系数： None\n",
      "calinski_harabaz_score： None\n",
      "[eps: 0.3 min_samples: 10 ]聚类簇的个数为： 1\n",
      "轮廓系数： None\n",
      "calinski_harabaz_score： None\n",
      "[eps: 0.3 min_samples: 15 ]聚类簇的个数为： 1\n",
      "轮廓系数： None\n",
      "calinski_harabaz_score： None\n",
      "[eps: 0.4 min_samples: 5 ]聚类簇的个数为： 2\n",
      "轮廓系数： -0.012216234139125115\n",
      "calinski_harabaz_score： 24.642772380889554\n",
      "[eps: 0.4 min_samples: 10 ]聚类簇的个数为： 2\n",
      "轮廓系数： -0.1394848101869551\n",
      "calinski_harabaz_score： 16.200458125383204\n",
      "[eps: 0.4 min_samples: 15 ]聚类簇的个数为： 1\n",
      "轮廓系数： None\n",
      "calinski_harabaz_score： None\n",
      "[eps: 0.5 min_samples: 5 ]聚类簇的个数为： 8\n",
      "轮廓系数： -0.1310428843570635\n",
      "calinski_harabaz_score： 12.405932655137727\n",
      "[eps: 0.5 min_samples: 10 ]聚类簇的个数为： 2\n",
      "轮廓系数： 0.01180537661552262\n",
      "calinski_harabaz_score： 27.223243679467295\n",
      "[eps: 0.5 min_samples: 15 ]聚类簇的个数为： 1\n",
      "轮廓系数： None\n",
      "calinski_harabaz_score： None\n",
      "[eps: 0.6 min_samples: 5 ]聚类簇的个数为： 8\n",
      "轮廓系数： -0.019589829595008813\n",
      "calinski_harabaz_score： 18.051706600700868\n",
      "[eps: 0.6 min_samples: 10 ]聚类簇的个数为： 4\n",
      "轮廓系数： -0.07703865247258283\n",
      "calinski_harabaz_score： 21.964356688407914\n",
      "[eps: 0.6 min_samples: 15 ]聚类簇的个数为： 1\n",
      "轮廓系数： None\n",
      "calinski_harabaz_score： None\n",
      "[DBSCAN] 0分钟0.148秒\n"
     ]
    }
   ],
   "source": [
    "# 使用定义的参数，多次训练\n",
    "# 参数：(epsilon, min_sample)\n",
    "params = ((0.2, 5), (0.2, 10), (0.2, 15), (0.3, 5), (0.3, 10), (0.3, 15),(0.4, 5), (0.4, 10), (0.4, 15), (0.5, 5), (0.5, 10), (0.5, 15), (0.6, 5), (0.6, 10), (0.6, 15)) \n",
    "\n",
    "n = []\n",
    "y_silhouette_score = []\n",
    "calinskiharabaz_score = []\n",
    "\n",
    "t_start = time()\n",
    "for i in range(2, 15+2):\n",
    "    eps, min_samples = params[i-2]\n",
    "    model = DBSCAN(eps=eps, min_samples=min_samples)\n",
    "    model.fit(data)\n",
    "    y_hat = model.labels_\n",
    "\n",
    "    # 获取聚类个数。（聚类结果中-1表示没有聚类为离散点）\n",
    "    n_clusters_ = len(set(y_hat)) - (1 if -1 in y_hat else 0)\n",
    "    \n",
    "    # 这里要注意，仅在聚类数为2 <= n_labels <= n_samples - 1时Silhouette Coefficient和calinski_harabaz才有定义\n",
    "    if 2 <= n_clusters_:\n",
    "        silhouette_s = silhouette_score(data, y_hat, metric='euclidean')\n",
    "        calinski_harabaz_s = calinski_harabaz_score(data, y_hat)\n",
    "    else:\n",
    "        silhouette_s = None\n",
    "        calinski_harabaz_s = None\n",
    "    \n",
    "    print('[eps:', eps, 'min_samples:', min_samples,']聚类簇的个数为：', n_clusters_)\n",
    "    print('轮廓系数：', silhouette_s)\n",
    "    print('calinski_harabaz_score：', calinski_harabaz_s)\n",
    "    \n",
    "    n.append(i)\n",
    "    y_silhouette_score.append(silhouette_s)\n",
    "    calinskiharabaz_score.append(calinski_harabaz_s)\n",
    "\n",
    "t_end = time()\n",
    "t = t_end - t_start\n",
    "print('[DBSCAN] %d分钟%.3f秒' % (int(t / 60), t - 60 * int(t / 60)))"
   ]
  },
  {
   "cell_type": "code",
   "execution_count": 33,
   "metadata": {
    "id": "bFJbPIohVKKX",
    "colab_type": "code",
    "colab": {
     "base_uri": "https://localhost:8080/",
     "height": 630.0
    },
    "outputId": "b11aeb91-9b88-40bb-e2da-c97b7a2a9560",
    "executionInfo": {
     "status": "ok",
     "timestamp": 1.559028532897E12,
     "user_tz": -480.0,
     "elapsed": 1231.0,
     "user": {
      "displayName": "孙越",
      "photoUrl": "",
      "userId": "16330562981862613375"
     }
    }
   },
   "outputs": [
    {
     "data": {
      "text/plain": [
       "Text(0.5, 1.0, 'n_clusters_--calinski_harabaz_score')"
      ]
     },
     "execution_count": 33,
     "metadata": {
      "tags": []
     },
     "output_type": "execute_result"
    },
    {
     "name": "stderr",
     "output_type": "stream",
     "text": [
      "/usr/local/lib/python3.6/dist-packages/matplotlib/font_manager.py:1241: UserWarning: findfont: Font family ['sans-serif'] not found. Falling back to DejaVu Sans.\n",
      "  (prop.get_family(), self.defaultFamily[fontext]))\n"
     ]
    },
    {
     "data": {
      "image/png": "[encoded data removed]",
      "text/plain": [
       "<Figure size 432x288 with 1 Axes>"
      ]
     },
     "metadata": {
      "tags": []
     },
     "output_type": "display_data"
    },
    {
     "data": {
      "image/png": "[encoded data removed]",
      "text/plain": [
       "<Figure size 432x288 with 1 Axes>"
      ]
     },
     "metadata": {
      "tags": []
     },
     "output_type": "display_data"
    }
   ],
   "source": [
    "import matplotlib.pyplot as plt\n",
    "import matplotlib.colors\n",
    "\n",
    "matplotlib.rcParams['font.sans-serif'] = ['SimHei']\n",
    "matplotlib.rcParams['axes.unicode_minus'] = False\n",
    "\n",
    "plt.figure()  \n",
    "plt.plot(n,y_silhouette_score)  \n",
    "plt.xlabel(\"DBSCAN-n_clusters_\")  \n",
    "plt.ylabel(\"silhouette_score\")  \n",
    "plt.title(\"n_clusters_--silhouette_score\")  \n",
    "\n",
    "plt.figure()  \n",
    "plt.plot(n,calinskiharabaz_score)  \n",
    "plt.xlabel(\"DBSCAN-n_clusters_\")  \n",
    "plt.ylabel(\"calinski_harabaz_score\")  \n",
    "plt.title(\"n_clusters_--calinski_harabaz_score\")  \n"
   ]
  }
 ],
 "metadata": {
  "colab": {
   "name": "lab7-DBSCAN.ipynb",
   "version": "0.3.2",
   "provenance": [],
   "collapsed_sections": []
  },
  "kernelspec": {
   "name": "python3",
   "display_name": "Python 3"
  }
 },
 "nbformat": 4,
 "nbformat_minor": 0
}
